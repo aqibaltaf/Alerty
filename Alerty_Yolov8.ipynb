{
  "nbformat": 4,
  "nbformat_minor": 0,
  "metadata": {
    "colab": {
      "provenance": [],
      "include_colab_link": true
    },
    "kernelspec": {
      "name": "python3",
      "display_name": "Python 3"
    },
    "language_info": {
      "name": "python"
    },
    "accelerator": "GPU",
    "gpuClass": "standard"
  },
  "cells": [
    {
      "cell_type": "markdown",
      "metadata": {
        "id": "view-in-github",
        "colab_type": "text"
      },
      "source": [
        "<a href=\"https://colab.research.google.com/github/aqibaltaf/Alerty/blob/main/Alerty_Yolov8.ipynb\" target=\"_parent\"><img src=\"https://colab.research.google.com/assets/colab-badge.svg\" alt=\"Open In Colab\"/></a>"
      ]
    },
    {
      "cell_type": "code",
      "source": [
        "import pickle"
      ],
      "metadata": {
        "id": "VgL_NspZjjUc"
      },
      "execution_count": null,
      "outputs": []
    },
    {
      "cell_type": "code",
      "execution_count": null,
      "metadata": {
        "id": "-2-sfi6AUIhM"
      },
      "outputs": [],
      "source": [
        "! pip install ultralytics"
      ]
    },
    {
      "cell_type": "code",
      "source": [
        "#checking the verison of Pytorch\n",
        "import torch\n",
        "print(torch.__version__)"
      ],
      "metadata": {
        "id": "2CGmFzrJ_-sV",
        "colab": {
          "base_uri": "https://localhost:8080/"
        },
        "outputId": "db7e08d9-2b98-40f5-d579-e903fd0e0dea"
      },
      "execution_count": null,
      "outputs": [
        {
          "output_type": "stream",
          "name": "stdout",
          "text": [
            "1.13.1+cu116\n"
          ]
        }
      ]
    },
    {
      "cell_type": "code",
      "source": [
        "#Chaning to the directory containing the data\n",
        "%cd /content/drive/MyDrive/Yolov8"
      ],
      "metadata": {
        "colab": {
          "base_uri": "https://localhost:8080/"
        },
        "id": "kc1VbHAP29tn",
        "outputId": "3320c196-089b-488e-bd39-3193fd37661d"
      },
      "execution_count": null,
      "outputs": [
        {
          "output_type": "stream",
          "name": "stdout",
          "text": [
            "/content/drive/MyDrive/Yolov8\n"
          ]
        }
      ]
    },
    {
      "cell_type": "code",
      "source": [
        "#Importing Yolo\n",
        "import ultralytics\n",
        "ultralytics.checks()"
      ],
      "metadata": {
        "colab": {
          "base_uri": "https://localhost:8080/"
        },
        "id": "tSG4I-7b4hQb",
        "outputId": "6f875495-e425-4a8d-962b-5c3c748cb633"
      },
      "execution_count": null,
      "outputs": [
        {
          "output_type": "stream",
          "name": "stderr",
          "text": [
            "Ultralytics YOLOv8.0.58 🚀 Python-3.9.16 torch-1.13.1+cu116 CUDA:0 (Tesla T4, 15102MiB)\n",
            "Setup complete ✅ (2 CPUs, 12.7 GB RAM, 25.6/78.2 GB disk)\n"
          ]
        }
      ]
    },
    {
      "cell_type": "code",
      "source": [
        "#Training Yolov8 on Dataset\n",
        "!yolo task=detect mode=train epochs=10 data=/content/drive/MyDrive/Yolov8/data.yaml model=yolov8m.pt imgsz=640 batch=8"
      ],
      "metadata": {
        "id": "MFl2lzEW5ymk"
      },
      "execution_count": null,
      "outputs": []
    },
    {
      "cell_type": "code",
      "source": [
        "#Prediction on video\n",
        "!yolo task=detect mode=predict model=runs/detect/train/weights/best.pt conf=0.35 source=video_2.mp4 save=True"
      ],
      "metadata": {
        "id": "7cXnCRD_INLV"
      },
      "execution_count": null,
      "outputs": []
    },
    {
      "cell_type": "code",
      "source": [
        "#Prediction on an image\n",
        "!yolo task=detect mode=predict model=runs/detect/train/weights/best.pt conf=0.35 source=test_image.jpg save_txt=True save=True show=True"
      ],
      "metadata": {
        "id": "nT_eD-C5IQTp"
      },
      "execution_count": null,
      "outputs": []
    },
    {
      "cell_type": "code",
      "source": [
        "#Prediction on webcam\n",
        "!yolo task=detect mode=predict model=runs/detect/train/weights/best.pt conf=0.35 source=0"
      ],
      "metadata": {
        "id": "1WhXKSd3L2YA"
      },
      "execution_count": null,
      "outputs": []
    },
    {
      "cell_type": "code",
      "source": [],
      "metadata": {
        "id": "Alu1oae6jqIc"
      },
      "execution_count": null,
      "outputs": []
    }
  ]
}